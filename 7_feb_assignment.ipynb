{
 "cells": [
  {
   "cell_type": "markdown",
   "id": "fe80d9fd-d768-44b8-a7ad-3ccb11b78a79",
   "metadata": {},
   "source": [
    "# check if the string is numeric."
   ]
  },
  {
   "cell_type": "code",
   "execution_count": 1,
   "id": "5fabcb9c-bfe0-4089-bf10-05d5788f1d84",
   "metadata": {},
   "outputs": [],
   "source": [
    "s = \"pwskills15\""
   ]
  },
  {
   "cell_type": "code",
   "execution_count": 2,
   "id": "8d7092ef-1490-4478-8ebe-1d43e831fa81",
   "metadata": {},
   "outputs": [
    {
     "name": "stdout",
     "output_type": "stream",
     "text": [
      "True\n"
     ]
    }
   ],
   "source": [
    "print(any(map(str.isdigit, s)))"
   ]
  },
  {
   "cell_type": "markdown",
   "id": "b00cca81-5cd5-4f1e-b170-8dd054d94052",
   "metadata": {},
   "source": [
    "# find the square of numbers from 1 to 10."
   ]
  },
  {
   "cell_type": "code",
   "execution_count": 9,
   "id": "4c744ccd-f4e0-4b3f-8ddc-16755ab5e233",
   "metadata": {},
   "outputs": [],
   "source": [
    "l = [1,2,3,4,5,6,7,8,9,10]"
   ]
  },
  {
   "cell_type": "code",
   "execution_count": 10,
   "id": "434efa25-e4ad-4cdb-94a5-bd318a4a642f",
   "metadata": {},
   "outputs": [
    {
     "data": {
      "text/plain": [
       "[1, 4, 9, 16, 25, 36, 49, 64, 81, 100]"
      ]
     },
     "execution_count": 10,
     "metadata": {},
     "output_type": "execute_result"
    }
   ],
   "source": [
    "list(map(lambda x: x**2,l))"
   ]
  },
  {
   "cell_type": "markdown",
   "id": "77eab28f-2246-465b-bd13-e409c5002bb0",
   "metadata": {},
   "source": [
    "# find the cube root of numbers from 1 to 10."
   ]
  },
  {
   "cell_type": "code",
   "execution_count": 6,
   "id": "c6600814-92fb-451a-9feb-ce7414aa6031",
   "metadata": {},
   "outputs": [],
   "source": [
    "l = [1,2,3,4,5,6,7,8,9,10]"
   ]
  },
  {
   "cell_type": "code",
   "execution_count": 7,
   "id": "8f22704c-6993-44b1-b0c6-cbf67c28c28a",
   "metadata": {},
   "outputs": [
    {
     "data": {
      "text/plain": [
       "[1, 8, 27, 64, 125, 216, 343, 512, 729, 1000]"
      ]
     },
     "execution_count": 7,
     "metadata": {},
     "output_type": "execute_result"
    }
   ],
   "source": [
    "list(map(lambda x: x**3,l))"
   ]
  },
  {
   "cell_type": "markdown",
   "id": "e8213287-7f3d-4a7f-9e6a-f197e44b9674",
   "metadata": {},
   "source": [
    "# filter odd numbers from the list"
   ]
  },
  {
   "cell_type": "code",
   "execution_count": 8,
   "id": "ef8efcb4-0ee7-49de-975e-b18d78b40c36",
   "metadata": {},
   "outputs": [],
   "source": [
    "l = [1,2,3,4,5,6,7,8,9,10]"
   ]
  },
  {
   "cell_type": "code",
   "execution_count": 9,
   "id": "582337c1-f3aa-4666-b4a0-8f5819cc5402",
   "metadata": {},
   "outputs": [
    {
     "data": {
      "text/plain": [
       "[1, 3, 5, 7, 9]"
      ]
     },
     "execution_count": 9,
     "metadata": {},
     "output_type": "execute_result"
    }
   ],
   "source": [
    "list(filter(lambda x:(x% 2!=0),l))"
   ]
  },
  {
   "cell_type": "markdown",
   "id": "4dffade1-28e4-4c28-9d42-3b982cb54b06",
   "metadata": {},
   "source": [
    "# sort a list of integers into positive and negative int lists."
   ]
  },
  {
   "cell_type": "code",
   "execution_count": 4,
   "id": "6a5d8dfd-eede-4766-8427-a3de205f8f66",
   "metadata": {},
   "outputs": [],
   "source": [
    "l = [1,2,3,4,5,6,-1,-2,-3,-4,-5,0]"
   ]
  },
  {
   "cell_type": "code",
   "execution_count": 5,
   "id": "993c33e6-6bfa-439f-8e16-a500fcc3b8cb",
   "metadata": {},
   "outputs": [
    {
     "data": {
      "text/plain": [
       "[-1, -2, -3, -4, -5]"
      ]
     },
     "execution_count": 5,
     "metadata": {},
     "output_type": "execute_result"
    }
   ],
   "source": [
    "list(filter(lambda x: 0 > x, l))"
   ]
  },
  {
   "cell_type": "code",
   "execution_count": 6,
   "id": "0e46727e-fb3a-4b8f-9f55-aed098d8fa08",
   "metadata": {},
   "outputs": [
    {
     "data": {
      "text/plain": [
       "[1, 2, 3, 4, 5, 6, 0]"
      ]
     },
     "execution_count": 6,
     "metadata": {},
     "output_type": "execute_result"
    }
   ],
   "source": [
    "list(filter(lambda x: 0<=x, l))"
   ]
  },
  {
   "cell_type": "markdown",
   "id": "33a0ce4d-ba16-429c-b335-182d22a270fd",
   "metadata": {},
   "source": [
    "# check if a given number is even."
   ]
  },
  {
   "cell_type": "code",
   "execution_count": 12,
   "id": "2432f4b1-6541-40df-ab14-ad63051e08fc",
   "metadata": {},
   "outputs": [],
   "source": [
    "list = [i for i in range(10) if(i%2==0)]"
   ]
  },
  {
   "cell_type": "code",
   "execution_count": 13,
   "id": "91cab313-09f1-4e15-bf62-991acde8969b",
   "metadata": {},
   "outputs": [
    {
     "name": "stdout",
     "output_type": "stream",
     "text": [
      "[0, 2, 4, 6, 8]\n"
     ]
    }
   ],
   "source": [
    "print(list)"
   ]
  },
  {
   "cell_type": "markdown",
   "id": "19e3869b-bf63-4394-8367-27d226ec02f1",
   "metadata": {},
   "source": [
    "# check if the string starts with a particular letter."
   ]
  },
  {
   "cell_type": "code",
   "execution_count": 36,
   "id": "30b651a0-6d43-4271-add0-ed9f978416f1",
   "metadata": {},
   "outputs": [
    {
     "name": "stdout",
     "output_type": "stream",
     "text": [
      "True\n"
     ]
    }
   ],
   "source": [
    "starts_with = lambda x: True if x.startswith('P') else False\n",
    "print(starts_with('Pwskills'))\n"
   ]
  },
  {
   "cell_type": "markdown",
   "id": "b56e1f56-7d2e-4b38-8001-2dec004e41cf",
   "metadata": {},
   "source": [
    "# sort a list of tuples having fruit names and their quantity."
   ]
  },
  {
   "cell_type": "code",
   "execution_count": 39,
   "id": "998acfff-53c0-454b-9a9e-f2f49249735c",
   "metadata": {},
   "outputs": [],
   "source": [
    "t = [(\"mango\",99),(\"orange\",80),(\"grapes\",1000)]"
   ]
  },
  {
   "cell_type": "code",
   "execution_count": 40,
   "id": "41fdbcae-8a16-4b88-b99b-29bd0c277d54",
   "metadata": {},
   "outputs": [
    {
     "name": "stdout",
     "output_type": "stream",
     "text": [
      "[('orange', 80), ('mango', 99), ('grapes', 1000)]\n"
     ]
    }
   ],
   "source": [
    "def sort_list(t):\n",
    "    return(sorted(t, key = lambda x: x[1]))\n",
    "print(sort_list(t))"
   ]
  },
  {
   "cell_type": "markdown",
   "id": "95819c90-5482-46c7-a4b3-d2a987b2d129",
   "metadata": {},
   "source": [
    "# write code for a company. the req.of the company is that you create a python function that will check whether the password entered by the user is correct or not.\n",
    "the function should take password as input and return the string \"valid password\" else it should return \"invalid password\"."
   ]
  },
  {
   "cell_type": "code",
   "execution_count": 42,
   "id": "d73939b2-f9eb-4f3c-ac1e-0aa3419ffa87",
   "metadata": {},
   "outputs": [],
   "source": [
    "def password_validate(password):\n",
    "    SpecialSymbol =['$', '@', '#', '%'] \n",
    "    val = True\n",
    "      \n",
    "    if len(password) < 6: \n",
    "        print('length should be at least 6') \n",
    "        val = False\n",
    "          \n",
    "    if len(password) > 10: \n",
    "        print('length should be not be greater than 8') \n",
    "        val = False\n",
    "          \n",
    "    if not any(char.isdigit() for char in password): \n",
    "        print('Password should have at least one numeral') \n",
    "        val = False\n",
    "          \n",
    "    if not any(char.isupper() for char in password): \n",
    "        print('Password should have at least two uppercase letter') \n",
    "        val = False\n",
    "          \n",
    "    if not any(char.islower() for char in password): \n",
    "        print('Password should have at least two lowercase letter') \n",
    "        val = False\n",
    "          \n",
    "    if not any(char in SpecialSymbol for char in password): \n",
    "        print('Password should have at least three symbols $@#') \n",
    "        val = False\n",
    "    if val: \n",
    "        return val "
   ]
  },
  {
   "cell_type": "code",
   "execution_count": 43,
   "id": "95259ad8-3b32-4303-bc00-9cd0d1c166ad",
   "metadata": {},
   "outputs": [],
   "source": [
    "def main(): \n",
    "    password = input(\"Enter the Password: \")\n",
    "    if (password_validate(password)):\n",
    "        print(\"Password is valid\")\n",
    "    else:\n",
    "        print(\"Password is invalid!!\")  "
   ]
  },
  {
   "cell_type": "code",
   "execution_count": 45,
   "id": "91cafbaf-fff2-4876-a71a-efdf4f34fe37",
   "metadata": {},
   "outputs": [
    {
     "name": "stdin",
     "output_type": "stream",
     "text": [
      "Enter the Password:  asTU@#$4\n"
     ]
    },
    {
     "name": "stdout",
     "output_type": "stream",
     "text": [
      "Password is valid\n"
     ]
    }
   ],
   "source": [
    "if __name__ == '__main__': \n",
    "    main() "
   ]
  },
  {
   "cell_type": "code",
   "execution_count": 46,
   "id": "9bdd023a-88a7-4579-a037-452f3d5497c9",
   "metadata": {},
   "outputs": [
    {
     "name": "stdin",
     "output_type": "stream",
     "text": [
      "Enter the Password:  asd@#7\n"
     ]
    },
    {
     "name": "stdout",
     "output_type": "stream",
     "text": [
      "Password should have at least two uppercase letter\n",
      "Password is invalid!!\n"
     ]
    }
   ],
   "source": [
    "if __name__ == '__main__': \n",
    "    main() "
   ]
  },
  {
   "cell_type": "code",
   "execution_count": null,
   "id": "f2c97d27-2e49-4596-a616-29f69a56c0df",
   "metadata": {},
   "outputs": [],
   "source": []
  }
 ],
 "metadata": {
  "kernelspec": {
   "display_name": "Python 3 (ipykernel)",
   "language": "python",
   "name": "python3"
  },
  "language_info": {
   "codemirror_mode": {
    "name": "ipython",
    "version": 3
   },
   "file_extension": ".py",
   "mimetype": "text/x-python",
   "name": "python",
   "nbconvert_exporter": "python",
   "pygments_lexer": "ipython3",
   "version": "3.10.6"
  }
 },
 "nbformat": 4,
 "nbformat_minor": 5
}
